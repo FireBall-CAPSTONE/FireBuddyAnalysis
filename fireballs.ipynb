{
 "cells": [
  {
   "cell_type": "code",
   "execution_count": 1,
   "id": "b38a59c7-8d90-4250-a7eb-9a160deb84cd",
   "metadata": {},
   "outputs": [],
   "source": [
    "import pandas as pd\n",
    "import numpy as np\n",
    "\n",
    "from sklearn.impute import SimpleImputer, MissingIndicator\n",
    "import fancyimpute as fimp\n",
    "\n",
    "import datetime\n",
    "from meteostat import Point, Hourly, Daily\n",
    "\n",
    "#from pandas_profiling import ProfileReport"
   ]
  },
  {
   "cell_type": "code",
   "execution_count": 2,
   "id": "730d5c3c-1dd3-43cc-834f-89f0eab3ccc1",
   "metadata": {},
   "outputs": [
    {
     "name": "stdout",
     "output_type": "stream",
     "text": [
      "<class 'pandas.core.frame.DataFrame'>\n",
      "RangeIndex: 929 entries, 0 to 928\n",
      "Data columns (total 10 columns):\n",
      " #   Column                               Non-Null Count  Dtype  \n",
      "---  ------                               --------------  -----  \n",
      " 0   Peak Brightness Date/Time (UT)       929 non-null    object \n",
      " 1   Latitude (deg.)                      739 non-null    object \n",
      " 2   Longitude (deg.)                     739 non-null    object \n",
      " 3   Altitude (km)                        471 non-null    float64\n",
      " 4   Velocity (km/s)                      276 non-null    float64\n",
      " 5   vx                                   276 non-null    float64\n",
      " 6   vy                                   276 non-null    float64\n",
      " 7   vz                                   276 non-null    float64\n",
      " 8   Total Radiated Energy (J)            929 non-null    float64\n",
      " 9   Calculated Total Impact Energy (kt)  929 non-null    float64\n",
      "dtypes: float64(7), object(3)\n",
      "memory usage: 72.7+ KB\n"
     ]
    }
   ],
   "source": [
    "df = pd.read_csv('cneos_fireball_data.csv')\n",
    "\n",
    "df.info()"
   ]
  },
  {
   "cell_type": "code",
   "execution_count": 3,
   "id": "6f05c9d0-9dc1-4283-bca1-631e57273101",
   "metadata": {},
   "outputs": [],
   "source": [
    "# ProfileReport(df, title='Fireball Report').to_file('load_report.html')"
   ]
  },
  {
   "cell_type": "code",
   "execution_count": 4,
   "id": "090dca2d-fad2-4a18-bdcc-c24e7098be1e",
   "metadata": {},
   "outputs": [],
   "source": [
    "# Apply imputation\n"
   ]
  },
  {
   "cell_type": "code",
   "execution_count": 5,
   "id": "7db3f1b0-c2d6-4d2a-aff2-4a9272ea8b2a",
   "metadata": {},
   "outputs": [],
   "source": [
    "# splitting date and time\n",
    "df['Peak Brightness Date/Time (UT)']= pd.to_datetime(df['Peak Brightness Date/Time (UT)'])\n",
    "\n",
    "df['date'] = df['Peak Brightness Date/Time (UT)'].dt.date\n",
    "df['year'] = df['Peak Brightness Date/Time (UT)'].dt.year\n",
    "df['quarter'] = df['Peak Brightness Date/Time (UT)'].dt.quarter\n",
    "df['month'] = df['Peak Brightness Date/Time (UT)'].dt.month\n",
    "df['day'] = df['Peak Brightness Date/Time (UT)'].dt.day\n",
    "df['weekday'] = df['Peak Brightness Date/Time (UT)'].dt.weekday\n",
    "df['time'] = df['Peak Brightness Date/Time (UT)'].dt.time\n",
    "df['hour'] = df['Peak Brightness Date/Time (UT)'].dt.hour\n",
    "df['minute'] = df['Peak Brightness Date/Time (UT)'].dt.minute\n",
    "df['second'] = df['Peak Brightness Date/Time (UT)'].dt.second"
   ]
  },
  {
   "cell_type": "code",
   "execution_count": 6,
   "id": "265519eb-c6d9-45d8-8801-9d51f65023ea",
   "metadata": {},
   "outputs": [],
   "source": [
    "# changing latitude and longitude to values\n",
    "def lat(row):\n",
    "    if row['Latitude (deg.)'] == row['Latitude (deg.)']:\n",
    "        if row['Latitude (deg.)'][-1] == 'N':\n",
    "            return float(row['Latitude (deg.)'][:-1])\n",
    "        elif row['Latitude (deg.)'][-1] == 'S':\n",
    "            return float('-'+(row['Latitude (deg.)'][:-1]))\n",
    "    return np.nan\n",
    "\n",
    "def long(row):\n",
    "    if row['Longitude (deg.)'] == row['Longitude (deg.)']:\n",
    "        if row['Longitude (deg.)'][-1] == 'E':\n",
    "            return float(row['Longitude (deg.)'][:-1])\n",
    "        elif row['Longitude (deg.)'][-1] == 'W':\n",
    "            return float('-'+(row['Longitude (deg.)'][:-1]))\n",
    "    return np.nan\n",
    "\n",
    "df['Lat'] = df.apply(lambda row: lat(row), axis=1)\n",
    "df['Long'] = df.apply(lambda row: long(row), axis=1)"
   ]
  },
  {
   "cell_type": "code",
   "execution_count": 7,
   "id": "d8ae86a2-3199-429d-a9a1-e59ca74c8095",
   "metadata": {},
   "outputs": [
    {
     "data": {
      "text/html": [
       "<div>\n",
       "<style scoped>\n",
       "    .dataframe tbody tr th:only-of-type {\n",
       "        vertical-align: middle;\n",
       "    }\n",
       "\n",
       "    .dataframe tbody tr th {\n",
       "        vertical-align: top;\n",
       "    }\n",
       "\n",
       "    .dataframe thead th {\n",
       "        text-align: right;\n",
       "    }\n",
       "</style>\n",
       "<table border=\"1\" class=\"dataframe\">\n",
       "  <thead>\n",
       "    <tr style=\"text-align: right;\">\n",
       "      <th></th>\n",
       "      <th>tavg</th>\n",
       "      <th>tmin</th>\n",
       "      <th>tmax</th>\n",
       "      <th>prcp</th>\n",
       "      <th>snow</th>\n",
       "      <th>wdir</th>\n",
       "      <th>wspd</th>\n",
       "      <th>wpgt</th>\n",
       "      <th>pres</th>\n",
       "      <th>tsun</th>\n",
       "    </tr>\n",
       "  </thead>\n",
       "  <tbody>\n",
       "  </tbody>\n",
       "</table>\n",
       "</div>"
      ],
      "text/plain": [
       "Empty DataFrame\n",
       "Columns: [tavg, tmin, tmax, prcp, snow, wdir, wspd, wpgt, pres, tsun]\n",
       "Index: []"
      ]
     },
     "execution_count": 7,
     "metadata": {},
     "output_type": "execute_result"
    }
   ],
   "source": [
    "#getting climate data\n",
    "start = datetime.datetime(2021,2,9)\n",
    "end = datetime.datetime(2021,2,10)\n",
    "Daily(Point(75.8, -92.8, 31000), start, end).fetch()"
   ]
  },
  {
   "cell_type": "code",
   "execution_count": 8,
   "id": "9b8d89bf-b524-437f-8fac-dbbf14d93a2f",
   "metadata": {},
   "outputs": [
    {
     "name": "stdout",
     "output_type": "stream",
     "text": [
      "<class 'pandas.core.frame.DataFrame'>\n",
      "RangeIndex: 929 entries, 0 to 928\n",
      "Data columns (total 22 columns):\n",
      " #   Column                               Non-Null Count  Dtype         \n",
      "---  ------                               --------------  -----         \n",
      " 0   Peak Brightness Date/Time (UT)       929 non-null    datetime64[ns]\n",
      " 1   Latitude (deg.)                      739 non-null    object        \n",
      " 2   Longitude (deg.)                     739 non-null    object        \n",
      " 3   Altitude (km)                        471 non-null    float64       \n",
      " 4   Velocity (km/s)                      276 non-null    float64       \n",
      " 5   vx                                   276 non-null    float64       \n",
      " 6   vy                                   276 non-null    float64       \n",
      " 7   vz                                   276 non-null    float64       \n",
      " 8   Total Radiated Energy (J)            929 non-null    float64       \n",
      " 9   Calculated Total Impact Energy (kt)  929 non-null    float64       \n",
      " 10  date                                 929 non-null    object        \n",
      " 11  year                                 929 non-null    int64         \n",
      " 12  quarter                              929 non-null    int64         \n",
      " 13  month                                929 non-null    int64         \n",
      " 14  day                                  929 non-null    int64         \n",
      " 15  weekday                              929 non-null    int64         \n",
      " 16  time                                 929 non-null    object        \n",
      " 17  hour                                 929 non-null    int64         \n",
      " 18  minute                               929 non-null    int64         \n",
      " 19  second                               929 non-null    int64         \n",
      " 20  Lat                                  739 non-null    float64       \n",
      " 21  Long                                 739 non-null    float64       \n",
      "dtypes: datetime64[ns](1), float64(9), int64(8), object(4)\n",
      "memory usage: 159.8+ KB\n"
     ]
    }
   ],
   "source": [
    "df.info()"
   ]
  },
  {
   "cell_type": "code",
   "execution_count": 9,
   "id": "6a47e95e-61a4-4c60-a6e8-b82257633436",
   "metadata": {},
   "outputs": [],
   "source": [
    "# ProfileReport(df, title='Fireball Report').to_file('fireball_report.html')"
   ]
  },
  {
   "cell_type": "code",
   "execution_count": null,
   "id": "1cf372c7-4160-4615-94d7-8ba0bd75bb9e",
   "metadata": {},
   "outputs": [],
   "source": []
  }
 ],
 "metadata": {
  "kernelspec": {
   "display_name": "Python 3 (ipykernel)",
   "language": "python",
   "name": "python3"
  },
  "language_info": {
   "codemirror_mode": {
    "name": "ipython",
    "version": 3
   },
   "file_extension": ".py",
   "mimetype": "text/x-python",
   "name": "python",
   "nbconvert_exporter": "python",
   "pygments_lexer": "ipython3",
   "version": "3.8.6"
  }
 },
 "nbformat": 4,
 "nbformat_minor": 5
}
