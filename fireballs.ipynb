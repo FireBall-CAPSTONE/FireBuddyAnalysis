{
 "cells": [
  {
   "cell_type": "code",
   "execution_count": 28,
   "id": "b38a59c7-8d90-4250-a7eb-9a160deb84cd",
   "metadata": {},
   "outputs": [],
   "source": [
    "import pandas as pd\n",
    "import numpy as np\n",
    "\n",
    "import datetime\n",
    "from meteostat import Point, Hourly, Daily\n",
    "\n",
    "from pandas_profiling import ProfileReport"
   ]
  },
  {
   "cell_type": "code",
   "execution_count": 2,
   "id": "730d5c3c-1dd3-43cc-834f-89f0eab3ccc1",
   "metadata": {},
   "outputs": [
    {
     "name": "stdout",
     "output_type": "stream",
     "text": [
      "<class 'pandas.core.frame.DataFrame'>\n",
      "RangeIndex: 929 entries, 0 to 928\n",
      "Data columns (total 10 columns):\n",
      " #   Column                               Non-Null Count  Dtype  \n",
      "---  ------                               --------------  -----  \n",
      " 0   Peak Brightness Date/Time (UT)       929 non-null    object \n",
      " 1   Latitude (deg.)                      739 non-null    object \n",
      " 2   Longitude (deg.)                     739 non-null    object \n",
      " 3   Altitude (km)                        471 non-null    float64\n",
      " 4   Velocity (km/s)                      276 non-null    float64\n",
      " 5   vx                                   276 non-null    float64\n",
      " 6   vy                                   276 non-null    float64\n",
      " 7   vz                                   276 non-null    float64\n",
      " 8   Total Radiated Energy (J)            929 non-null    float64\n",
      " 9   Calculated Total Impact Energy (kt)  929 non-null    float64\n",
      "dtypes: float64(7), object(3)\n",
      "memory usage: 72.7+ KB\n"
     ]
    }
   ],
   "source": [
    "df = pd.read_csv('cneos_fireball_data.csv')\n",
    "\n",
    "df.info()"
   ]
  },
  {
   "cell_type": "code",
   "execution_count": 3,
   "id": "6f05c9d0-9dc1-4283-bca1-631e57273101",
   "metadata": {},
   "outputs": [
    {
     "data": {
      "application/vnd.jupyter.widget-view+json": {
       "model_id": "deb9d05322f741cf9e5a48c657563341",
       "version_major": 2,
       "version_minor": 0
      },
      "text/plain": [
       "Summarize dataset:   0%|          | 0/5 [00:00<?, ?it/s]"
      ]
     },
     "metadata": {},
     "output_type": "display_data"
    },
    {
     "data": {
      "application/vnd.jupyter.widget-view+json": {
       "model_id": "d65f6f9ae7ef4cd98ddc75f2b637bf41",
       "version_major": 2,
       "version_minor": 0
      },
      "text/plain": [
       "Generate report structure:   0%|          | 0/1 [00:00<?, ?it/s]"
      ]
     },
     "metadata": {},
     "output_type": "display_data"
    },
    {
     "data": {
      "application/vnd.jupyter.widget-view+json": {
       "model_id": "e8d34d5c476b4656a8abe689c4f8162c",
       "version_major": 2,
       "version_minor": 0
      },
      "text/plain": [
       "Render HTML:   0%|          | 0/1 [00:00<?, ?it/s]"
      ]
     },
     "metadata": {},
     "output_type": "display_data"
    },
    {
     "data": {
      "application/vnd.jupyter.widget-view+json": {
       "model_id": "7d0b29b9ce3640979a2c99e799e85515",
       "version_major": 2,
       "version_minor": 0
      },
      "text/plain": [
       "Export report to file:   0%|          | 0/1 [00:00<?, ?it/s]"
      ]
     },
     "metadata": {},
     "output_type": "display_data"
    }
   ],
   "source": [
    "ProfileReport(df, title='Fireball Report').to_file('load_report.html')"
   ]
  },
  {
   "cell_type": "code",
   "execution_count": 4,
   "id": "7db3f1b0-c2d6-4d2a-aff2-4a9272ea8b2a",
   "metadata": {},
   "outputs": [],
   "source": [
    "# splitting date and time\n",
    "df['Peak Brightness Date/Time (UT)']= pd.to_datetime(df['Peak Brightness Date/Time (UT)'])\n",
    "\n",
    "df['date'] = df['Peak Brightness Date/Time (UT)'].dt.date\n",
    "df['year'] = df['Peak Brightness Date/Time (UT)'].dt.year\n",
    "df['quarter'] = df['Peak Brightness Date/Time (UT)'].dt.quarter\n",
    "df['month'] = df['Peak Brightness Date/Time (UT)'].dt.month\n",
    "df['day'] = df['Peak Brightness Date/Time (UT)'].dt.day\n",
    "df['time'] = df['Peak Brightness Date/Time (UT)'].dt.time\n",
    "df['hour'] = df['Peak Brightness Date/Time (UT)'].dt.hour\n",
    "df['minute'] = df['Peak Brightness Date/Time (UT)'].dt.minute\n",
    "df['second'] = df['Peak Brightness Date/Time (UT)'].dt.second\n",
    "df['weekday'] = df['Peak Brightness Date/Time (UT)'].dt.weekday"
   ]
  },
  {
   "cell_type": "code",
   "execution_count": 5,
   "id": "265519eb-c6d9-45d8-8801-9d51f65023ea",
   "metadata": {},
   "outputs": [],
   "source": [
    "# changing latitude and longitude to values\n",
    "def lat(row):\n",
    "    if row['Latitude (deg.)'] == row['Latitude (deg.)']:\n",
    "        if row['Latitude (deg.)'][-1] == 'N':\n",
    "            return float(row['Latitude (deg.)'][:-1])\n",
    "        elif row['Latitude (deg.)'][-1] == 'S':\n",
    "            return float('-'+(row['Latitude (deg.)'][:-1]))\n",
    "    return np.nan\n",
    "\n",
    "def long(row):\n",
    "    if row['Latitude (deg.)'] == row['Latitude (deg.)']:\n",
    "        if row['Longitude (deg.)'][-1] == 'E':\n",
    "            return float(row['Longitude (deg.)'][:-1])\n",
    "        elif row['Longitude (deg.)'][-1] == 'W':\n",
    "            return float('-'+(row['Longitude (deg.)'][:-1]))\n",
    "    return np.nan\n",
    "\n",
    "df['Lat'] = df.apply (lambda row: lat(row), axis=1)\n",
    "df['Long'] = df.apply (lambda row: long(row), axis=1)"
   ]
  },
  {
   "cell_type": "code",
   "execution_count": 54,
   "id": "d8ae86a2-3199-429d-a9a1-e59ca74c8095",
   "metadata": {},
   "outputs": [
    {
     "data": {
      "text/html": [
       "<div>\n",
       "<style scoped>\n",
       "    .dataframe tbody tr th:only-of-type {\n",
       "        vertical-align: middle;\n",
       "    }\n",
       "\n",
       "    .dataframe tbody tr th {\n",
       "        vertical-align: top;\n",
       "    }\n",
       "\n",
       "    .dataframe thead th {\n",
       "        text-align: right;\n",
       "    }\n",
       "</style>\n",
       "<table border=\"1\" class=\"dataframe\">\n",
       "  <thead>\n",
       "    <tr style=\"text-align: right;\">\n",
       "      <th></th>\n",
       "      <th>tavg</th>\n",
       "      <th>tmin</th>\n",
       "      <th>tmax</th>\n",
       "      <th>prcp</th>\n",
       "      <th>snow</th>\n",
       "      <th>wdir</th>\n",
       "      <th>wspd</th>\n",
       "      <th>wpgt</th>\n",
       "      <th>pres</th>\n",
       "      <th>tsun</th>\n",
       "    </tr>\n",
       "  </thead>\n",
       "  <tbody>\n",
       "  </tbody>\n",
       "</table>\n",
       "</div>"
      ],
      "text/plain": [
       "Empty DataFrame\n",
       "Columns: [tavg, tmin, tmax, prcp, snow, wdir, wspd, wpgt, pres, tsun]\n",
       "Index: []"
      ]
     },
     "execution_count": 54,
     "metadata": {},
     "output_type": "execute_result"
    }
   ],
   "source": [
    "#getting climate data\n",
    "start = datetime.datetime(2021,2,9)\n",
    "end = datetime.datetime(2021,2,10)\n",
    "Daily(Point(75.8, -92.8, 31000), start, end).fetch()"
   ]
  },
  {
   "cell_type": "code",
   "execution_count": 52,
   "id": "9b8d89bf-b524-437f-8fac-dbbf14d93a2f",
   "metadata": {},
   "outputs": [
    {
     "data": {
      "text/plain": [
       "Peak Brightness Date/Time (UT)         2021-02-09 23:27:29\n",
       "Latitude (deg.)                                      75.8N\n",
       "Longitude (deg.)                                     92.8W\n",
       "Altitude (km)                                         31.0\n",
       "Velocity (km/s)                                       13.1\n",
       "vx                                                    -5.2\n",
       "vy                                                     6.3\n",
       "vz                                                   -10.3\n",
       "Total Radiated Energy (J)                    30000000000.0\n",
       "Calculated Total Impact Energy (kt)                    0.1\n",
       "date                                            2021-02-09\n",
       "year                                                  2021\n",
       "quarter                                                  1\n",
       "month                                                    2\n",
       "day                                                      9\n",
       "time                                              23:27:29\n",
       "hour                                                    23\n",
       "minute                                                  27\n",
       "second                                                  29\n",
       "weekday                                                  1\n",
       "Lat                                                   75.8\n",
       "Long                                                 -92.8\n",
       "Name: 57, dtype: object"
      ]
     },
     "execution_count": 52,
     "metadata": {},
     "output_type": "execute_result"
    }
   ],
   "source": []
  },
  {
   "cell_type": "code",
   "execution_count": 7,
   "id": "6a47e95e-61a4-4c60-a6e8-b82257633436",
   "metadata": {},
   "outputs": [
    {
     "data": {
      "application/vnd.jupyter.widget-view+json": {
       "model_id": "b394f6a4d2764f6faec5087912d1cd64",
       "version_major": 2,
       "version_minor": 0
      },
      "text/plain": [
       "Summarize dataset:   0%|          | 0/5 [00:00<?, ?it/s]"
      ]
     },
     "metadata": {},
     "output_type": "display_data"
    },
    {
     "data": {
      "application/vnd.jupyter.widget-view+json": {
       "model_id": "1a40a83fa6dc4108a923598067040be7",
       "version_major": 2,
       "version_minor": 0
      },
      "text/plain": [
       "Generate report structure:   0%|          | 0/1 [00:00<?, ?it/s]"
      ]
     },
     "metadata": {},
     "output_type": "display_data"
    },
    {
     "data": {
      "application/vnd.jupyter.widget-view+json": {
       "model_id": "6e0314b93d3b4ec3bbfbf107dc2b4b3b",
       "version_major": 2,
       "version_minor": 0
      },
      "text/plain": [
       "Render HTML:   0%|          | 0/1 [00:00<?, ?it/s]"
      ]
     },
     "metadata": {},
     "output_type": "display_data"
    },
    {
     "data": {
      "application/vnd.jupyter.widget-view+json": {
       "model_id": "18b55a7780b34193b6a00066c6d38c18",
       "version_major": 2,
       "version_minor": 0
      },
      "text/plain": [
       "Export report to file:   0%|          | 0/1 [00:00<?, ?it/s]"
      ]
     },
     "metadata": {},
     "output_type": "display_data"
    }
   ],
   "source": [
    "ProfileReport(df, title='Fireball Report').to_file('fireball_report.html')"
   ]
  },
  {
   "cell_type": "code",
   "execution_count": 9,
   "id": "1cf372c7-4160-4615-94d7-8ba0bd75bb9e",
   "metadata": {},
   "outputs": [
    {
     "name": "stdout",
     "output_type": "stream",
     "text": [
      "Collecting meteostat\n",
      "  Downloading meteostat-1.6.5-py3-none-any.whl (31 kB)\n",
      "Requirement already satisfied: numpy in c:\\users\\abelv\\appdata\\local\\programs\\python\\python39\\lib\\site-packages (from meteostat) (1.23.2)\n",
      "Requirement already satisfied: pandas>=1.1 in c:\\users\\abelv\\appdata\\local\\programs\\python\\python39\\lib\\site-packages (from meteostat) (1.4.4)\n",
      "Requirement already satisfied: pytz in c:\\users\\abelv\\appdata\\local\\programs\\python\\python39\\lib\\site-packages (from meteostat) (2022.2.1)\n",
      "Requirement already satisfied: python-dateutil>=2.8.1 in c:\\users\\abelv\\appdata\\local\\programs\\python\\python39\\lib\\site-packages (from pandas>=1.1->meteostat) (2.8.2)\n",
      "Requirement already satisfied: six>=1.5 in c:\\users\\abelv\\appdata\\local\\programs\\python\\python39\\lib\\site-packages (from python-dateutil>=2.8.1->pandas>=1.1->meteostat) (1.16.0)\n",
      "Installing collected packages: meteostat\n",
      "Successfully installed meteostat-1.6.5\n",
      "Note: you may need to restart the kernel to use updated packages.\n"
     ]
    }
   ],
   "source": []
  }
 ],
 "metadata": {
  "kernelspec": {
   "display_name": "Python 3 (ipykernel)",
   "language": "python",
   "name": "python3"
  },
  "language_info": {
   "codemirror_mode": {
    "name": "ipython",
    "version": 3
   },
   "file_extension": ".py",
   "mimetype": "text/x-python",
   "name": "python",
   "nbconvert_exporter": "python",
   "pygments_lexer": "ipython3",
   "version": "3.9.6"
  }
 },
 "nbformat": 4,
 "nbformat_minor": 5
}
