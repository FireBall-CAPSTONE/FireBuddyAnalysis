{
 "cells": [
  {
   "cell_type": "code",
   "execution_count": 1,
   "metadata": {},
   "outputs": [],
   "source": [
    "import numpy as np\n",
    "import pandas as pd\n",
    "from sklearn.impute import SimpleImputer, MissingIndicator\n",
    "from sklearn import datasets\n",
    "from sklearn.model_selection import train_test_split\n",
    "from sklearn import linear_model\n",
    "from sklearn.metrics import mean_squared_error"
   ]
  },
  {
   "cell_type": "code",
   "execution_count": 2,
   "metadata": {},
   "outputs": [
    {
     "name": "stdout",
     "output_type": "stream",
     "text": [
      "(442, 10)\n"
     ]
    }
   ],
   "source": [
    "# load the dataset\n",
    "diabetes = datasets.load_diabetes()\n",
    "X_full = diabetes.data\n",
    "y = diabetes.target\n",
    "\n",
    "print(X_full.shape)"
   ]
  },
  {
   "cell_type": "code",
   "execution_count": 13,
   "metadata": {},
   "outputs": [
    {
     "ename": "AttributeError",
     "evalue": "info",
     "output_type": "error",
     "traceback": [
      "\u001b[1;31m---------------------------------------------------------------------------\u001b[0m",
      "\u001b[1;31mKeyError\u001b[0m                                  Traceback (most recent call last)",
      "\u001b[1;32mc:\\users\\abelv\\appdata\\local\\programs\\python\\python39\\lib\\site-packages\\sklearn\\utils\\_bunch.py\u001b[0m in \u001b[0;36m__getattr__\u001b[1;34m(self, key)\u001b[0m\n\u001b[0;32m     34\u001b[0m         \u001b[1;32mtry\u001b[0m\u001b[1;33m:\u001b[0m\u001b[1;33m\u001b[0m\u001b[1;33m\u001b[0m\u001b[0m\n\u001b[1;32m---> 35\u001b[1;33m             \u001b[1;32mreturn\u001b[0m \u001b[0mself\u001b[0m\u001b[1;33m[\u001b[0m\u001b[0mkey\u001b[0m\u001b[1;33m]\u001b[0m\u001b[1;33m\u001b[0m\u001b[1;33m\u001b[0m\u001b[0m\n\u001b[0m\u001b[0;32m     36\u001b[0m         \u001b[1;32mexcept\u001b[0m \u001b[0mKeyError\u001b[0m\u001b[1;33m:\u001b[0m\u001b[1;33m\u001b[0m\u001b[1;33m\u001b[0m\u001b[0m\n",
      "\u001b[1;31mKeyError\u001b[0m: 'info'",
      "\nDuring handling of the above exception, another exception occurred:\n",
      "\u001b[1;31mAttributeError\u001b[0m                            Traceback (most recent call last)",
      "\u001b[1;32m~\\AppData\\Local\\Temp/ipykernel_9904/3034502017.py\u001b[0m in \u001b[0;36m<module>\u001b[1;34m\u001b[0m\n\u001b[1;32m----> 1\u001b[1;33m \u001b[0mdiabetes\u001b[0m\u001b[1;33m.\u001b[0m\u001b[0minfo\u001b[0m\u001b[1;33m(\u001b[0m\u001b[1;33m)\u001b[0m\u001b[1;33m\u001b[0m\u001b[1;33m\u001b[0m\u001b[0m\n\u001b[0m",
      "\u001b[1;32mc:\\users\\abelv\\appdata\\local\\programs\\python\\python39\\lib\\site-packages\\sklearn\\utils\\_bunch.py\u001b[0m in \u001b[0;36m__getattr__\u001b[1;34m(self, key)\u001b[0m\n\u001b[0;32m     35\u001b[0m             \u001b[1;32mreturn\u001b[0m \u001b[0mself\u001b[0m\u001b[1;33m[\u001b[0m\u001b[0mkey\u001b[0m\u001b[1;33m]\u001b[0m\u001b[1;33m\u001b[0m\u001b[1;33m\u001b[0m\u001b[0m\n\u001b[0;32m     36\u001b[0m         \u001b[1;32mexcept\u001b[0m \u001b[0mKeyError\u001b[0m\u001b[1;33m:\u001b[0m\u001b[1;33m\u001b[0m\u001b[1;33m\u001b[0m\u001b[0m\n\u001b[1;32m---> 37\u001b[1;33m             \u001b[1;32mraise\u001b[0m \u001b[0mAttributeError\u001b[0m\u001b[1;33m(\u001b[0m\u001b[0mkey\u001b[0m\u001b[1;33m)\u001b[0m\u001b[1;33m\u001b[0m\u001b[1;33m\u001b[0m\u001b[0m\n\u001b[0m\u001b[0;32m     38\u001b[0m \u001b[1;33m\u001b[0m\u001b[0m\n\u001b[0;32m     39\u001b[0m     \u001b[1;32mdef\u001b[0m \u001b[0m__setstate__\u001b[0m\u001b[1;33m(\u001b[0m\u001b[0mself\u001b[0m\u001b[1;33m,\u001b[0m \u001b[0mstate\u001b[0m\u001b[1;33m)\u001b[0m\u001b[1;33m:\u001b[0m\u001b[1;33m\u001b[0m\u001b[1;33m\u001b[0m\u001b[0m\n",
      "\u001b[1;31mAttributeError\u001b[0m: info"
     ]
    }
   ],
   "source": []
  },
  {
   "cell_type": "code",
   "execution_count": 3,
   "metadata": {},
   "outputs": [
    {
     "name": "stdout",
     "output_type": "stream",
     "text": [
      "(433,)\n"
     ]
    }
   ],
   "source": [
    "# Add missing values in 10% of the data\n",
    "miss_ratio = 0.1\n",
    "rng = np.random.RandomState(0)\n",
    "\n",
    "X_unif = rng.random_sample(X_full.shape)\n",
    "\n",
    "X_ind = X_unif < miss_ratio\n",
    "X_miss = X_full.copy()\n",
    "X_miss[X_ind] = np.nan\n",
    "\n",
    "print(X_miss[X_ind].shape)"
   ]
  },
  {
   "cell_type": "code",
   "execution_count": 4,
   "metadata": {},
   "outputs": [
    {
     "name": "stdout",
     "output_type": "stream",
     "text": [
      "[[ 0.03807591  0.05068012  0.06169621 ... -0.00259226  0.01990749\n",
      "  -0.01764613]\n",
      " [-0.00188202 -0.04464164 -0.05147406 ... -0.03949338 -0.06833155\n",
      "  -0.09220405]\n",
      " [ 0.08529891  0.05068012  0.04445121 ... -0.00259226  0.00286131\n",
      "  -0.02593034]\n",
      " ...\n",
      " [ 0.04170844  0.05068012 -0.01590626 ... -0.01107952         nan\n",
      "   0.01549073]\n",
      " [-0.04547248         nan  0.03906215 ...  0.02655962         nan\n",
      "  -0.02593034]\n",
      " [-0.04547248 -0.04464164 -0.0730303  ... -0.03949338         nan\n",
      "   0.00306441]]\n"
     ]
    }
   ],
   "source": [
    "print(X_miss)"
   ]
  },
  {
   "cell_type": "code",
   "execution_count": 5,
   "metadata": {},
   "outputs": [],
   "source": [
    "# split the dataset into training and  testing\n",
    "X_full_train, X_full_test, y_train, y_test = train_test_split(X_full, y, test_size=0.30, random_state=42)\n",
    "X_miss_train, X_miss_test, y_train, y_test = train_test_split(X_miss, y, test_size=0.30, random_state=42)"
   ]
  },
  {
   "cell_type": "code",
   "execution_count": 6,
   "metadata": {},
   "outputs": [
    {
     "name": "stdout",
     "output_type": "stream",
     "text": [
      "RMSE - full =  53.1201560709427\n"
     ]
    }
   ],
   "source": [
    "# see results without missing data\n",
    "ols_full = linear_model.LinearRegression(fit_intercept=True)\n",
    "ols_full.fit(X_full_train, y_train)\n",
    "print('RMSE - full = ', np.sqrt(mean_squared_error(y_test, ols_full.predict(X_full_test))))"
   ]
  },
  {
   "cell_type": "code",
   "execution_count": 7,
   "metadata": {},
   "outputs": [],
   "source": [
    "def test_imputations(my_strategy, my_fill_value, X_miss_train, X_miss_test, y_train, y_test):\n",
    "    \n",
    "    imp = SimpleImputer(missing_values=np.nan, strategy=my_strategy, fill_value=my_fill_value)\n",
    "    imp.fit(X_miss_train)\n",
    "    \n",
    "    X_imp_train = imp.transform(X_miss_train)\n",
    "    X_imp_test = imp.transform(X_miss_test)\n",
    "    \n",
    "    ols_miss = linear_model.LinearRegression(fit_intercept=True)\n",
    "    ols_miss.fit(X_imp_train, y_train)\n",
    "    print('RMSE - ', my_strategy, ' = ', np.sqrt(mean_squared_error(y_test, ols_miss.predict(X_imp_test))))  "
   ]
  },
  {
   "cell_type": "code",
   "execution_count": 8,
   "metadata": {},
   "outputs": [
    {
     "name": "stdout",
     "output_type": "stream",
     "text": [
      "RMSE -  mean  =  56.0786464183594\n",
      "RMSE -  median  =  55.51057590795774\n",
      "RMSE -  most_frequent  =  55.04347411862263\n",
      "RMSE -  constant  =  55.92789379943154\n"
     ]
    }
   ],
   "source": [
    "test_imputations('mean', 0, X_miss_train, X_miss_test, y_train, y_test)\n",
    "test_imputations('median', 0, X_miss_train, X_miss_test, y_train, y_test)\n",
    "test_imputations('most_frequent', 0, X_miss_train, X_miss_test, y_train, y_test)\n",
    "test_imputations('constant', 0, X_miss_train, X_miss_test, y_train, y_test)"
   ]
  },
  {
   "cell_type": "code",
   "execution_count": 9,
   "metadata": {},
   "outputs": [
    {
     "name": "stdout",
     "output_type": "stream",
     "text": [
      "Collecting fancyimpute\n",
      "  Downloading fancyimpute-0.7.0.tar.gz (25 kB)\n",
      "  Preparing metadata (setup.py): started\n",
      "  Preparing metadata (setup.py): finished with status 'done'\n",
      "Collecting knnimpute>=0.1.0\n",
      "  Downloading knnimpute-0.1.0.tar.gz (8.3 kB)\n",
      "  Preparing metadata (setup.py): started\n",
      "  Preparing metadata (setup.py): finished with status 'done'\n",
      "Requirement already satisfied: scikit-learn>=0.24.2 in c:\\users\\abelv\\appdata\\local\\programs\\python\\python39\\lib\\site-packages (from fancyimpute) (1.1.2)\n",
      "Collecting cvxpy\n",
      "  Downloading cvxpy-1.2.1-cp39-cp39-win_amd64.whl (833 kB)\n",
      "     -------------------------------------- 833.2/833.2 kB 6.6 MB/s eta 0:00:00\n",
      "Collecting cvxopt\n",
      "  Downloading cvxopt-1.3.0-cp39-cp39-win_amd64.whl (12.7 MB)\n",
      "     --------------------------------------- 12.7/12.7 MB 24.2 MB/s eta 0:00:00\n",
      "Collecting pytest\n",
      "  Downloading pytest-7.1.3-py3-none-any.whl (298 kB)\n",
      "     ------------------------------------- 298.2/298.2 kB 18.0 MB/s eta 0:00:00\n",
      "Collecting nose\n",
      "  Downloading nose-1.3.7-py3-none-any.whl (154 kB)\n",
      "     -------------------------------------- 154.7/154.7 kB 9.6 MB/s eta 0:00:00\n",
      "Requirement already satisfied: six in c:\\users\\abelv\\appdata\\local\\programs\\python\\python39\\lib\\site-packages (from knnimpute>=0.1.0->fancyimpute) (1.16.0)\n",
      "Requirement already satisfied: numpy>=1.10 in c:\\users\\abelv\\appdata\\local\\programs\\python\\python39\\lib\\site-packages (from knnimpute>=0.1.0->fancyimpute) (1.23.2)\n",
      "Requirement already satisfied: joblib>=1.0.0 in c:\\users\\abelv\\appdata\\local\\programs\\python\\python39\\lib\\site-packages (from scikit-learn>=0.24.2->fancyimpute) (1.1.0)\n",
      "Requirement already satisfied: scipy>=1.3.2 in c:\\users\\abelv\\appdata\\local\\programs\\python\\python39\\lib\\site-packages (from scikit-learn>=0.24.2->fancyimpute) (1.9.0)\n",
      "Requirement already satisfied: threadpoolctl>=2.0.0 in c:\\users\\abelv\\appdata\\local\\programs\\python\\python39\\lib\\site-packages (from scikit-learn>=0.24.2->fancyimpute) (3.1.0)\n",
      "Collecting ecos>=2\n",
      "  Downloading ecos-2.0.10-cp39-cp39-win_amd64.whl (68 kB)\n",
      "     ---------------------------------------- 68.5/68.5 kB 3.9 MB/s eta 0:00:00\n",
      "Collecting osqp>=0.4.1\n",
      "  Downloading osqp-0.6.2.post5-cp39-cp39-win_amd64.whl (278 kB)\n",
      "     ------------------------------------- 278.5/278.5 kB 16.8 MB/s eta 0:00:00\n",
      "Collecting scs>=1.1.6\n",
      "  Downloading scs-3.2.0-cp39-cp39-win_amd64.whl (8.1 MB)\n",
      "     ---------------------------------------- 8.1/8.1 MB 23.6 MB/s eta 0:00:00\n",
      "Collecting pluggy<2.0,>=0.12\n",
      "  Downloading pluggy-1.0.0-py2.py3-none-any.whl (13 kB)\n",
      "Collecting tomli>=1.0.0\n",
      "  Downloading tomli-2.0.1-py3-none-any.whl (12 kB)\n",
      "Requirement already satisfied: attrs>=19.2.0 in c:\\users\\abelv\\appdata\\local\\programs\\python\\python39\\lib\\site-packages (from pytest->fancyimpute) (21.2.0)\n",
      "Requirement already satisfied: packaging in c:\\users\\abelv\\appdata\\local\\programs\\python\\python39\\lib\\site-packages (from pytest->fancyimpute) (21.0)\n",
      "Collecting py>=1.8.2\n",
      "  Downloading py-1.11.0-py2.py3-none-any.whl (98 kB)\n",
      "     ---------------------------------------- 98.7/98.7 kB 5.5 MB/s eta 0:00:00\n",
      "Collecting iniconfig\n",
      "  Downloading iniconfig-1.1.1-py2.py3-none-any.whl (5.0 kB)\n",
      "Requirement already satisfied: colorama in c:\\users\\abelv\\appdata\\local\\programs\\python\\python39\\lib\\site-packages (from pytest->fancyimpute) (0.4.4)\n",
      "Collecting qdldl\n",
      "  Downloading qdldl-0.1.5.post2-cp39-cp39-win_amd64.whl (83 kB)\n",
      "     ---------------------------------------- 83.3/83.3 kB 4.6 MB/s eta 0:00:00\n",
      "Requirement already satisfied: pyparsing>=2.0.2 in c:\\users\\abelv\\appdata\\local\\programs\\python\\python39\\lib\\site-packages (from packaging->pytest->fancyimpute) (2.4.7)\n",
      "Using legacy 'setup.py install' for fancyimpute, since package 'wheel' is not installed.\n",
      "Using legacy 'setup.py install' for knnimpute, since package 'wheel' is not installed.\n",
      "Installing collected packages: nose, iniconfig, tomli, py, pluggy, knnimpute, cvxopt, scs, qdldl, pytest, ecos, osqp, cvxpy, fancyimpute\n",
      "  Running setup.py install for knnimpute: started\n",
      "  Running setup.py install for knnimpute: finished with status 'done'\n",
      "  Running setup.py install for fancyimpute: started\n",
      "  Running setup.py install for fancyimpute: finished with status 'done'\n",
      "Successfully installed cvxopt-1.3.0 cvxpy-1.2.1 ecos-2.0.10 fancyimpute-0.7.0 iniconfig-1.1.1 knnimpute-0.1.0 nose-1.3.7 osqp-0.6.2.post5 pluggy-1.0.0 py-1.11.0 pytest-7.1.3 qdldl-0.1.5.post2 scs-3.2.0 tomli-2.0.1\n"
     ]
    }
   ],
   "source": [
    "!pip install fancyimpute"
   ]
  },
  {
   "cell_type": "code",
   "execution_count": 10,
   "metadata": {},
   "outputs": [
    {
     "name": "stdout",
     "output_type": "stream",
     "text": [
      "RMSE - fancy =  57.56247404233082\n"
     ]
    }
   ],
   "source": [
    "# MICE - Multivariate Imputation by Chained Equations\n",
    "# YouTube explanation of MICE - https://www.youtube.com/watch?v=zX-pacwVyvU\n",
    "import fancyimpute as fimp\n",
    "# this package can be installed by calling: !pip install fancyimpute\n",
    "\n",
    "imputer = fimp.IterativeImputer(sample_posterior=True, random_state=0)\n",
    "imputer.fit(X_miss_train)\n",
    "\n",
    "X_fancy_train = imputer.transform(X_miss_train)\n",
    "X_fancy_test = imputer.transform(X_miss_test)\n",
    "\n",
    "ols_fancy = linear_model.LinearRegression(fit_intercept=True)\n",
    "ols_fancy.fit(X_fancy_train, y_train)\n",
    "print('RMSE - fancy = ', np.sqrt(mean_squared_error(y_test, ols_fancy.predict(X_fancy_test))))"
   ]
  },
  {
   "cell_type": "code",
   "execution_count": null,
   "metadata": {},
   "outputs": [],
   "source": []
  }
 ],
 "metadata": {
  "kernelspec": {
   "display_name": "Python 3 (ipykernel)",
   "language": "python",
   "name": "python3"
  },
  "language_info": {
   "codemirror_mode": {
    "name": "ipython",
    "version": 3
   },
   "file_extension": ".py",
   "mimetype": "text/x-python",
   "name": "python",
   "nbconvert_exporter": "python",
   "pygments_lexer": "ipython3",
   "version": "3.9.6"
  }
 },
 "nbformat": 4,
 "nbformat_minor": 4
}
